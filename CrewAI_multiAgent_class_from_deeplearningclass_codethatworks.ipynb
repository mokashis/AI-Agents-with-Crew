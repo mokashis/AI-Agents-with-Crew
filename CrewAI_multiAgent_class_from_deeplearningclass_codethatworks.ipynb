{
  "nbformat": 4,
  "nbformat_minor": 0,
  "metadata": {
    "colab": {
      "provenance": [],
      "authorship_tag": "ABX9TyNOSeIPVtKOMIDB/ee1X5X9",
      "include_colab_link": true
    },
    "kernelspec": {
      "name": "python3",
      "display_name": "Python 3"
    },
    "language_info": {
      "name": "python"
    }
  },
  "cells": [
    {
      "cell_type": "markdown",
      "metadata": {
        "id": "view-in-github",
        "colab_type": "text"
      },
      "source": [
        "<a href=\"https://colab.research.google.com/github/mokashis/AI-Agents-with-Crew/blob/main/CrewAI_multiAgent_class_from_deeplearningclass_codethatworks.ipynb\" target=\"_parent\"><img src=\"https://colab.research.google.com/assets/colab-badge.svg\" alt=\"Open In Colab\"/></a>"
      ]
    },
    {
      "cell_type": "code",
      "execution_count": null,
      "metadata": {
        "colab": {
          "base_uri": "https://localhost:8080/"
        },
        "id": "gvcVA7wWq6Hx",
        "outputId": "5ea838ff-3d08-44af-8787-d60c519ff03b",
        "collapsed": true
      },
      "outputs": [
        {
          "output_type": "stream",
          "name": "stdout",
          "text": [
            "Requirement already satisfied: crewai in /usr/local/lib/python3.11/dist-packages (0.100.1)\n",
            "Requirement already satisfied: crewai_tools in /usr/local/lib/python3.11/dist-packages (0.33.0)\n",
            "Requirement already satisfied: langchain_community in /usr/local/lib/python3.11/dist-packages (0.3.17)\n",
            "Requirement already satisfied: appdirs>=1.4.4 in /usr/local/lib/python3.11/dist-packages (from crewai) (1.4.4)\n",
            "Requirement already satisfied: auth0-python>=4.7.1 in /usr/local/lib/python3.11/dist-packages (from crewai) (4.8.0)\n",
            "Requirement already satisfied: blinker>=1.9.0 in /usr/local/lib/python3.11/dist-packages (from crewai) (1.9.0)\n",
            "Requirement already satisfied: chromadb>=0.5.23 in /usr/local/lib/python3.11/dist-packages (from crewai) (0.5.23)\n",
            "Requirement already satisfied: click>=8.1.7 in /usr/local/lib/python3.11/dist-packages (from crewai) (8.1.8)\n",
            "Requirement already satisfied: instructor>=1.3.3 in /usr/local/lib/python3.11/dist-packages (from crewai) (1.7.2)\n",
            "Requirement already satisfied: json-repair>=0.25.2 in /usr/local/lib/python3.11/dist-packages (from crewai) (0.36.0)\n",
            "Requirement already satisfied: json5>=0.10.0 in /usr/local/lib/python3.11/dist-packages (from crewai) (0.10.0)\n",
            "Requirement already satisfied: jsonref>=1.1.0 in /usr/local/lib/python3.11/dist-packages (from crewai) (1.1.0)\n",
            "Requirement already satisfied: litellm==1.59.8 in /usr/local/lib/python3.11/dist-packages (from crewai) (1.59.8)\n",
            "Requirement already satisfied: openai>=1.13.3 in /usr/local/lib/python3.11/dist-packages (from crewai) (1.61.1)\n",
            "Requirement already satisfied: openpyxl>=3.1.5 in /usr/local/lib/python3.11/dist-packages (from crewai) (3.1.5)\n",
            "Requirement already satisfied: opentelemetry-api>=1.22.0 in /usr/local/lib/python3.11/dist-packages (from crewai) (1.30.0)\n",
            "Requirement already satisfied: opentelemetry-exporter-otlp-proto-http>=1.22.0 in /usr/local/lib/python3.11/dist-packages (from crewai) (1.30.0)\n",
            "Requirement already satisfied: opentelemetry-sdk>=1.22.0 in /usr/local/lib/python3.11/dist-packages (from crewai) (1.30.0)\n",
            "Requirement already satisfied: pdfplumber>=0.11.4 in /usr/local/lib/python3.11/dist-packages (from crewai) (0.11.5)\n",
            "Requirement already satisfied: pydantic>=2.4.2 in /usr/local/lib/python3.11/dist-packages (from crewai) (2.10.6)\n",
            "Requirement already satisfied: python-dotenv>=1.0.0 in /usr/local/lib/python3.11/dist-packages (from crewai) (1.0.1)\n",
            "Requirement already satisfied: pyvis>=0.3.2 in /usr/local/lib/python3.11/dist-packages (from crewai) (0.3.2)\n",
            "Requirement already satisfied: regex>=2024.9.11 in /usr/local/lib/python3.11/dist-packages (from crewai) (2024.11.6)\n",
            "Requirement already satisfied: tomli-w>=1.1.0 in /usr/local/lib/python3.11/dist-packages (from crewai) (1.2.0)\n",
            "Requirement already satisfied: tomli>=2.0.2 in /usr/local/lib/python3.11/dist-packages (from crewai) (2.2.1)\n",
            "Requirement already satisfied: uv>=0.4.25 in /usr/local/lib/python3.11/dist-packages (from crewai) (0.5.30)\n",
            "Requirement already satisfied: aiohttp in /usr/local/lib/python3.11/dist-packages (from litellm==1.59.8->crewai) (3.11.12)\n",
            "Requirement already satisfied: httpx<0.28.0,>=0.23.0 in /usr/local/lib/python3.11/dist-packages (from litellm==1.59.8->crewai) (0.27.2)\n",
            "Requirement already satisfied: importlib-metadata>=6.8.0 in /usr/local/lib/python3.11/dist-packages (from litellm==1.59.8->crewai) (8.5.0)\n",
            "Requirement already satisfied: jinja2<4.0.0,>=3.1.2 in /usr/local/lib/python3.11/dist-packages (from litellm==1.59.8->crewai) (3.1.5)\n",
            "Requirement already satisfied: jsonschema<5.0.0,>=4.22.0 in /usr/local/lib/python3.11/dist-packages (from litellm==1.59.8->crewai) (4.23.0)\n",
            "Requirement already satisfied: tiktoken>=0.7.0 in /usr/local/lib/python3.11/dist-packages (from litellm==1.59.8->crewai) (0.7.0)\n",
            "Requirement already satisfied: tokenizers in /usr/local/lib/python3.11/dist-packages (from litellm==1.59.8->crewai) (0.20.3)\n",
            "Requirement already satisfied: docker>=7.1.0 in /usr/local/lib/python3.11/dist-packages (from crewai_tools) (7.1.0)\n",
            "Requirement already satisfied: embedchain>=0.1.114 in /usr/local/lib/python3.11/dist-packages (from crewai_tools) (0.1.126)\n",
            "Requirement already satisfied: lancedb>=0.5.4 in /usr/local/lib/python3.11/dist-packages (from crewai_tools) (0.19.0)\n",
            "Requirement already satisfied: pyright>=1.1.350 in /usr/local/lib/python3.11/dist-packages (from crewai_tools) (1.1.394)\n",
            "Requirement already satisfied: pytube>=15.0.0 in /usr/local/lib/python3.11/dist-packages (from crewai_tools) (15.0.0)\n",
            "Requirement already satisfied: requests>=2.31.0 in /usr/local/lib/python3.11/dist-packages (from crewai_tools) (2.32.3)\n",
            "Requirement already satisfied: langchain-core<1.0.0,>=0.3.34 in /usr/local/lib/python3.11/dist-packages (from langchain_community) (0.3.34)\n",
            "Requirement already satisfied: langchain<1.0.0,>=0.3.18 in /usr/local/lib/python3.11/dist-packages (from langchain_community) (0.3.18)\n",
            "Requirement already satisfied: SQLAlchemy<3,>=1.4 in /usr/local/lib/python3.11/dist-packages (from langchain_community) (2.0.37)\n",
            "Requirement already satisfied: PyYAML>=5.3 in /usr/local/lib/python3.11/dist-packages (from langchain_community) (6.0.2)\n",
            "Requirement already satisfied: tenacity!=8.4.0,<10,>=8.1.0 in /usr/local/lib/python3.11/dist-packages (from langchain_community) (9.0.0)\n",
            "Requirement already satisfied: dataclasses-json<0.7,>=0.5.7 in /usr/local/lib/python3.11/dist-packages (from langchain_community) (0.6.7)\n",
            "Requirement already satisfied: pydantic-settings<3.0.0,>=2.4.0 in /usr/local/lib/python3.11/dist-packages (from langchain_community) (2.7.1)\n",
            "Requirement already satisfied: langsmith<0.4,>=0.1.125 in /usr/local/lib/python3.11/dist-packages (from langchain_community) (0.1.147)\n",
            "Requirement already satisfied: httpx-sse<1.0.0,>=0.4.0 in /usr/local/lib/python3.11/dist-packages (from langchain_community) (0.4.0)\n",
            "Requirement already satisfied: numpy<2,>=1.26.4 in /usr/local/lib/python3.11/dist-packages (from langchain_community) (1.26.4)\n",
            "Requirement already satisfied: aiohappyeyeballs>=2.3.0 in /usr/local/lib/python3.11/dist-packages (from aiohttp->litellm==1.59.8->crewai) (2.4.4)\n",
            "Requirement already satisfied: aiosignal>=1.1.2 in /usr/local/lib/python3.11/dist-packages (from aiohttp->litellm==1.59.8->crewai) (1.3.2)\n",
            "Requirement already satisfied: attrs>=17.3.0 in /usr/local/lib/python3.11/dist-packages (from aiohttp->litellm==1.59.8->crewai) (25.1.0)\n",
            "Requirement already satisfied: frozenlist>=1.1.1 in /usr/local/lib/python3.11/dist-packages (from aiohttp->litellm==1.59.8->crewai) (1.5.0)\n",
            "Requirement already satisfied: multidict<7.0,>=4.5 in /usr/local/lib/python3.11/dist-packages (from aiohttp->litellm==1.59.8->crewai) (6.1.0)\n",
            "Requirement already satisfied: propcache>=0.2.0 in /usr/local/lib/python3.11/dist-packages (from aiohttp->litellm==1.59.8->crewai) (0.2.1)\n",
            "Requirement already satisfied: yarl<2.0,>=1.17.0 in /usr/local/lib/python3.11/dist-packages (from aiohttp->litellm==1.59.8->crewai) (1.18.3)\n",
            "Requirement already satisfied: cryptography>=43.0.1 in /usr/local/lib/python3.11/dist-packages (from auth0-python>=4.7.1->crewai) (43.0.3)\n",
            "Requirement already satisfied: pyjwt>=2.8.0 in /usr/local/lib/python3.11/dist-packages (from auth0-python>=4.7.1->crewai) (2.10.1)\n",
            "Requirement already satisfied: urllib3>=2.2.3 in /usr/local/lib/python3.11/dist-packages (from auth0-python>=4.7.1->crewai) (2.3.0)\n",
            "Requirement already satisfied: build>=1.0.3 in /usr/local/lib/python3.11/dist-packages (from chromadb>=0.5.23->crewai) (1.2.2.post1)\n",
            "Requirement already satisfied: chroma-hnswlib==0.7.6 in /usr/local/lib/python3.11/dist-packages (from chromadb>=0.5.23->crewai) (0.7.6)\n",
            "Requirement already satisfied: fastapi>=0.95.2 in /usr/local/lib/python3.11/dist-packages (from chromadb>=0.5.23->crewai) (0.115.8)\n",
            "Requirement already satisfied: uvicorn>=0.18.3 in /usr/local/lib/python3.11/dist-packages (from uvicorn[standard]>=0.18.3->chromadb>=0.5.23->crewai) (0.34.0)\n",
            "Requirement already satisfied: posthog>=2.4.0 in /usr/local/lib/python3.11/dist-packages (from chromadb>=0.5.23->crewai) (3.13.0)\n",
            "Requirement already satisfied: typing_extensions>=4.5.0 in /usr/local/lib/python3.11/dist-packages (from chromadb>=0.5.23->crewai) (4.12.2)\n",
            "Requirement already satisfied: onnxruntime>=1.14.1 in /usr/local/lib/python3.11/dist-packages (from chromadb>=0.5.23->crewai) (1.20.1)\n",
            "Requirement already satisfied: opentelemetry-exporter-otlp-proto-grpc>=1.2.0 in /usr/local/lib/python3.11/dist-packages (from chromadb>=0.5.23->crewai) (1.30.0)\n",
            "Requirement already satisfied: opentelemetry-instrumentation-fastapi>=0.41b0 in /usr/local/lib/python3.11/dist-packages (from chromadb>=0.5.23->crewai) (0.51b0)\n",
            "Requirement already satisfied: pypika>=0.48.9 in /usr/local/lib/python3.11/dist-packages (from chromadb>=0.5.23->crewai) (0.48.9)\n",
            "Requirement already satisfied: tqdm>=4.65.0 in /usr/local/lib/python3.11/dist-packages (from chromadb>=0.5.23->crewai) (4.67.1)\n",
            "Requirement already satisfied: overrides>=7.3.1 in /usr/local/lib/python3.11/dist-packages (from chromadb>=0.5.23->crewai) (7.7.0)\n",
            "Requirement already satisfied: importlib-resources in /usr/local/lib/python3.11/dist-packages (from chromadb>=0.5.23->crewai) (6.5.2)\n",
            "Requirement already satisfied: grpcio>=1.58.0 in /usr/local/lib/python3.11/dist-packages (from chromadb>=0.5.23->crewai) (1.70.0)\n",
            "Requirement already satisfied: bcrypt>=4.0.1 in /usr/local/lib/python3.11/dist-packages (from chromadb>=0.5.23->crewai) (4.2.1)\n",
            "Requirement already satisfied: typer>=0.9.0 in /usr/local/lib/python3.11/dist-packages (from chromadb>=0.5.23->crewai) (0.15.1)\n",
            "Requirement already satisfied: kubernetes>=28.1.0 in /usr/local/lib/python3.11/dist-packages (from chromadb>=0.5.23->crewai) (32.0.0)\n",
            "Requirement already satisfied: mmh3>=4.0.1 in /usr/local/lib/python3.11/dist-packages (from chromadb>=0.5.23->crewai) (5.1.0)\n",
            "Requirement already satisfied: orjson>=3.9.12 in /usr/local/lib/python3.11/dist-packages (from chromadb>=0.5.23->crewai) (3.10.15)\n",
            "Requirement already satisfied: rich>=10.11.0 in /usr/local/lib/python3.11/dist-packages (from chromadb>=0.5.23->crewai) (13.9.4)\n",
            "Requirement already satisfied: marshmallow<4.0.0,>=3.18.0 in /usr/local/lib/python3.11/dist-packages (from dataclasses-json<0.7,>=0.5.7->langchain_community) (3.26.1)\n",
            "Requirement already satisfied: typing-inspect<1,>=0.4.0 in /usr/local/lib/python3.11/dist-packages (from dataclasses-json<0.7,>=0.5.7->langchain_community) (0.9.0)\n",
            "Requirement already satisfied: alembic<2.0.0,>=1.13.1 in /usr/local/lib/python3.11/dist-packages (from embedchain>=0.1.114->crewai_tools) (1.14.1)\n",
            "Requirement already satisfied: beautifulsoup4<5.0.0,>=4.12.2 in /usr/local/lib/python3.11/dist-packages (from embedchain>=0.1.114->crewai_tools) (4.13.3)\n",
            "Requirement already satisfied: cohere<6.0,>=5.3 in /usr/local/lib/python3.11/dist-packages (from embedchain>=0.1.114->crewai_tools) (5.13.12)\n",
            "Requirement already satisfied: google-cloud-aiplatform<2.0.0,>=1.26.1 in /usr/local/lib/python3.11/dist-packages (from embedchain>=0.1.114->crewai_tools) (1.79.0)\n",
            "Requirement already satisfied: gptcache<0.2.0,>=0.1.43 in /usr/local/lib/python3.11/dist-packages (from embedchain>=0.1.114->crewai_tools) (0.1.44)\n",
            "Requirement already satisfied: langchain-cohere<0.4.0,>=0.3.0 in /usr/local/lib/python3.11/dist-packages (from embedchain>=0.1.114->crewai_tools) (0.3.5)\n",
            "Requirement already satisfied: langchain-openai<0.3.0,>=0.2.1 in /usr/local/lib/python3.11/dist-packages (from embedchain>=0.1.114->crewai_tools) (0.2.14)\n",
            "Requirement already satisfied: mem0ai<0.2.0,>=0.1.37 in /usr/local/lib/python3.11/dist-packages (from embedchain>=0.1.114->crewai_tools) (0.1.48)\n",
            "Requirement already satisfied: pypdf<6.0.0,>=5.0.0 in /usr/local/lib/python3.11/dist-packages (from embedchain>=0.1.114->crewai_tools) (5.3.0)\n",
            "Requirement already satisfied: pysbd<0.4.0,>=0.3.4 in /usr/local/lib/python3.11/dist-packages (from embedchain>=0.1.114->crewai_tools) (0.3.4)\n",
            "Requirement already satisfied: schema<0.8.0,>=0.7.5 in /usr/local/lib/python3.11/dist-packages (from embedchain>=0.1.114->crewai_tools) (0.7.7)\n",
            "Requirement already satisfied: docstring-parser<1.0,>=0.16 in /usr/local/lib/python3.11/dist-packages (from instructor>=1.3.3->crewai) (0.16)\n",
            "Requirement already satisfied: jiter<0.9,>=0.6.1 in /usr/local/lib/python3.11/dist-packages (from instructor>=1.3.3->crewai) (0.8.2)\n",
            "Requirement already satisfied: pydantic-core<3.0.0,>=2.18.0 in /usr/local/lib/python3.11/dist-packages (from instructor>=1.3.3->crewai) (2.27.2)\n",
            "Requirement already satisfied: deprecation in /usr/local/lib/python3.11/dist-packages (from lancedb>=0.5.4->crewai_tools) (2.1.0)\n",
            "Requirement already satisfied: pylance==0.23.0 in /usr/local/lib/python3.11/dist-packages (from lancedb>=0.5.4->crewai_tools) (0.23.0)\n",
            "Requirement already satisfied: packaging in /usr/local/lib/python3.11/dist-packages (from lancedb>=0.5.4->crewai_tools) (24.2)\n",
            "Requirement already satisfied: pyarrow>=14 in /usr/local/lib/python3.11/dist-packages (from pylance==0.23.0->lancedb>=0.5.4->crewai_tools) (17.0.0)\n",
            "Requirement already satisfied: langchain-text-splitters<1.0.0,>=0.3.6 in /usr/local/lib/python3.11/dist-packages (from langchain<1.0.0,>=0.3.18->langchain_community) (0.3.6)\n",
            "Requirement already satisfied: jsonpatch<2.0,>=1.33 in /usr/local/lib/python3.11/dist-packages (from langchain-core<1.0.0,>=0.3.34->langchain_community) (1.33)\n",
            "Requirement already satisfied: requests-toolbelt<2.0.0,>=1.0.0 in /usr/local/lib/python3.11/dist-packages (from langsmith<0.4,>=0.1.125->langchain_community) (1.0.0)\n",
            "Requirement already satisfied: anyio<5,>=3.5.0 in /usr/local/lib/python3.11/dist-packages (from openai>=1.13.3->crewai) (3.7.1)\n",
            "Requirement already satisfied: distro<2,>=1.7.0 in /usr/local/lib/python3.11/dist-packages (from openai>=1.13.3->crewai) (1.9.0)\n",
            "Requirement already satisfied: sniffio in /usr/local/lib/python3.11/dist-packages (from openai>=1.13.3->crewai) (1.3.1)\n",
            "Requirement already satisfied: et-xmlfile in /usr/local/lib/python3.11/dist-packages (from openpyxl>=3.1.5->crewai) (2.0.0)\n",
            "Requirement already satisfied: deprecated>=1.2.6 in /usr/local/lib/python3.11/dist-packages (from opentelemetry-api>=1.22.0->crewai) (1.2.18)\n",
            "Requirement already satisfied: googleapis-common-protos~=1.52 in /usr/local/lib/python3.11/dist-packages (from opentelemetry-exporter-otlp-proto-http>=1.22.0->crewai) (1.66.0)\n",
            "Requirement already satisfied: opentelemetry-exporter-otlp-proto-common==1.30.0 in /usr/local/lib/python3.11/dist-packages (from opentelemetry-exporter-otlp-proto-http>=1.22.0->crewai) (1.30.0)\n",
            "Requirement already satisfied: opentelemetry-proto==1.30.0 in /usr/local/lib/python3.11/dist-packages (from opentelemetry-exporter-otlp-proto-http>=1.22.0->crewai) (1.30.0)\n",
            "Requirement already satisfied: protobuf<6.0,>=5.0 in /usr/local/lib/python3.11/dist-packages (from opentelemetry-proto==1.30.0->opentelemetry-exporter-otlp-proto-http>=1.22.0->crewai) (5.29.3)\n",
            "Requirement already satisfied: opentelemetry-semantic-conventions==0.51b0 in /usr/local/lib/python3.11/dist-packages (from opentelemetry-sdk>=1.22.0->crewai) (0.51b0)\n",
            "Requirement already satisfied: pdfminer.six==20231228 in /usr/local/lib/python3.11/dist-packages (from pdfplumber>=0.11.4->crewai) (20231228)\n",
            "Requirement already satisfied: Pillow>=9.1 in /usr/local/lib/python3.11/dist-packages (from pdfplumber>=0.11.4->crewai) (11.1.0)\n",
            "Requirement already satisfied: pypdfium2>=4.18.0 in /usr/local/lib/python3.11/dist-packages (from pdfplumber>=0.11.4->crewai) (4.30.1)\n",
            "Requirement already satisfied: charset-normalizer>=2.0.0 in /usr/local/lib/python3.11/dist-packages (from pdfminer.six==20231228->pdfplumber>=0.11.4->crewai) (3.4.1)\n",
            "Requirement already satisfied: annotated-types>=0.6.0 in /usr/local/lib/python3.11/dist-packages (from pydantic>=2.4.2->crewai) (0.7.0)\n",
            "Requirement already satisfied: nodeenv>=1.6.0 in /usr/local/lib/python3.11/dist-packages (from pyright>=1.1.350->crewai_tools) (1.9.1)\n",
            "Requirement already satisfied: ipython>=5.3.0 in /usr/local/lib/python3.11/dist-packages (from pyvis>=0.3.2->crewai) (7.34.0)\n",
            "Requirement already satisfied: jsonpickle>=1.4.1 in /usr/local/lib/python3.11/dist-packages (from pyvis>=0.3.2->crewai) (4.0.1)\n",
            "Requirement already satisfied: networkx>=1.11 in /usr/local/lib/python3.11/dist-packages (from pyvis>=0.3.2->crewai) (3.4.2)\n",
            "Requirement already satisfied: idna<4,>=2.5 in /usr/local/lib/python3.11/dist-packages (from requests>=2.31.0->crewai_tools) (3.10)\n",
            "Requirement already satisfied: certifi>=2017.4.17 in /usr/local/lib/python3.11/dist-packages (from requests>=2.31.0->crewai_tools) (2025.1.31)\n",
            "Requirement already satisfied: greenlet!=0.4.17 in /usr/local/lib/python3.11/dist-packages (from SQLAlchemy<3,>=1.4->langchain_community) (3.1.1)\n",
            "Requirement already satisfied: Mako in /usr/local/lib/python3.11/dist-packages (from alembic<2.0.0,>=1.13.1->embedchain>=0.1.114->crewai_tools) (1.3.9)\n",
            "Requirement already satisfied: soupsieve>1.2 in /usr/local/lib/python3.11/dist-packages (from beautifulsoup4<5.0.0,>=4.12.2->embedchain>=0.1.114->crewai_tools) (2.6)\n",
            "Requirement already satisfied: pyproject_hooks in /usr/local/lib/python3.11/dist-packages (from build>=1.0.3->chromadb>=0.5.23->crewai) (1.2.0)\n",
            "Requirement already satisfied: fastavro<2.0.0,>=1.9.4 in /usr/local/lib/python3.11/dist-packages (from cohere<6.0,>=5.3->embedchain>=0.1.114->crewai_tools) (1.10.0)\n",
            "Requirement already satisfied: types-requests<3.0.0,>=2.0.0 in /usr/local/lib/python3.11/dist-packages (from cohere<6.0,>=5.3->embedchain>=0.1.114->crewai_tools) (2.32.0.20241016)\n",
            "Requirement already satisfied: cffi>=1.12 in /usr/local/lib/python3.11/dist-packages (from cryptography>=43.0.1->auth0-python>=4.7.1->crewai) (1.17.1)\n",
            "Requirement already satisfied: wrapt<2,>=1.10 in /usr/local/lib/python3.11/dist-packages (from deprecated>=1.2.6->opentelemetry-api>=1.22.0->crewai) (1.17.2)\n",
            "Requirement already satisfied: starlette<0.46.0,>=0.40.0 in /usr/local/lib/python3.11/dist-packages (from fastapi>=0.95.2->chromadb>=0.5.23->crewai) (0.45.3)\n",
            "Requirement already satisfied: google-api-core!=2.0.*,!=2.1.*,!=2.2.*,!=2.3.*,!=2.4.*,!=2.5.*,!=2.6.*,!=2.7.*,<3.0.0dev,>=1.34.1 in /usr/local/lib/python3.11/dist-packages (from google-api-core[grpc]!=2.0.*,!=2.1.*,!=2.2.*,!=2.3.*,!=2.4.*,!=2.5.*,!=2.6.*,!=2.7.*,<3.0.0dev,>=1.34.1->google-cloud-aiplatform<2.0.0,>=1.26.1->embedchain>=0.1.114->crewai_tools) (2.19.2)\n",
            "Requirement already satisfied: google-auth<3.0.0dev,>=2.14.1 in /usr/local/lib/python3.11/dist-packages (from google-cloud-aiplatform<2.0.0,>=1.26.1->embedchain>=0.1.114->crewai_tools) (2.27.0)\n",
            "Requirement already satisfied: proto-plus<2.0.0dev,>=1.22.3 in /usr/local/lib/python3.11/dist-packages (from google-cloud-aiplatform<2.0.0,>=1.26.1->embedchain>=0.1.114->crewai_tools) (1.26.0)\n",
            "Requirement already satisfied: google-cloud-storage<3.0.0dev,>=1.32.0 in /usr/local/lib/python3.11/dist-packages (from google-cloud-aiplatform<2.0.0,>=1.26.1->embedchain>=0.1.114->crewai_tools) (2.19.0)\n",
            "Requirement already satisfied: google-cloud-bigquery!=3.20.0,<4.0.0dev,>=1.15.0 in /usr/local/lib/python3.11/dist-packages (from google-cloud-aiplatform<2.0.0,>=1.26.1->embedchain>=0.1.114->crewai_tools) (3.25.0)\n",
            "Requirement already satisfied: google-cloud-resource-manager<3.0.0dev,>=1.3.3 in /usr/local/lib/python3.11/dist-packages (from google-cloud-aiplatform<2.0.0,>=1.26.1->embedchain>=0.1.114->crewai_tools) (1.14.0)\n",
            "Requirement already satisfied: shapely<3.0.0dev in /usr/local/lib/python3.11/dist-packages (from google-cloud-aiplatform<2.0.0,>=1.26.1->embedchain>=0.1.114->crewai_tools) (2.0.7)\n",
            "Requirement already satisfied: cachetools in /usr/local/lib/python3.11/dist-packages (from gptcache<0.2.0,>=0.1.43->embedchain>=0.1.114->crewai_tools) (5.5.1)\n",
            "Requirement already satisfied: httpcore==1.* in /usr/local/lib/python3.11/dist-packages (from httpx<0.28.0,>=0.23.0->litellm==1.59.8->crewai) (1.0.7)\n",
            "Requirement already satisfied: h11<0.15,>=0.13 in /usr/local/lib/python3.11/dist-packages (from httpcore==1.*->httpx<0.28.0,>=0.23.0->litellm==1.59.8->crewai) (0.14.0)\n",
            "Requirement already satisfied: zipp>=3.20 in /usr/local/lib/python3.11/dist-packages (from importlib-metadata>=6.8.0->litellm==1.59.8->crewai) (3.21.0)\n",
            "Requirement already satisfied: setuptools>=18.5 in /usr/local/lib/python3.11/dist-packages (from ipython>=5.3.0->pyvis>=0.3.2->crewai) (75.1.0)\n",
            "Requirement already satisfied: jedi>=0.16 in /usr/local/lib/python3.11/dist-packages (from ipython>=5.3.0->pyvis>=0.3.2->crewai) (0.19.2)\n",
            "Requirement already satisfied: decorator in /usr/local/lib/python3.11/dist-packages (from ipython>=5.3.0->pyvis>=0.3.2->crewai) (4.4.2)\n",
            "Requirement already satisfied: pickleshare in /usr/local/lib/python3.11/dist-packages (from ipython>=5.3.0->pyvis>=0.3.2->crewai) (0.7.5)\n",
            "Requirement already satisfied: traitlets>=4.2 in /usr/local/lib/python3.11/dist-packages (from ipython>=5.3.0->pyvis>=0.3.2->crewai) (5.7.1)\n",
            "Requirement already satisfied: prompt-toolkit!=3.0.0,!=3.0.1,<3.1.0,>=2.0.0 in /usr/local/lib/python3.11/dist-packages (from ipython>=5.3.0->pyvis>=0.3.2->crewai) (3.0.50)\n",
            "Requirement already satisfied: pygments in /usr/local/lib/python3.11/dist-packages (from ipython>=5.3.0->pyvis>=0.3.2->crewai) (2.18.0)\n",
            "Requirement already satisfied: backcall in /usr/local/lib/python3.11/dist-packages (from ipython>=5.3.0->pyvis>=0.3.2->crewai) (0.2.0)\n",
            "Requirement already satisfied: matplotlib-inline in /usr/local/lib/python3.11/dist-packages (from ipython>=5.3.0->pyvis>=0.3.2->crewai) (0.1.7)\n",
            "Requirement already satisfied: pexpect>4.3 in /usr/local/lib/python3.11/dist-packages (from ipython>=5.3.0->pyvis>=0.3.2->crewai) (4.9.0)\n",
            "Requirement already satisfied: MarkupSafe>=2.0 in /usr/local/lib/python3.11/dist-packages (from jinja2<4.0.0,>=3.1.2->litellm==1.59.8->crewai) (3.0.2)\n",
            "Requirement already satisfied: jsonpointer>=1.9 in /usr/local/lib/python3.11/dist-packages (from jsonpatch<2.0,>=1.33->langchain-core<1.0.0,>=0.3.34->langchain_community) (3.0.0)\n",
            "Requirement already satisfied: jsonschema-specifications>=2023.03.6 in /usr/local/lib/python3.11/dist-packages (from jsonschema<5.0.0,>=4.22.0->litellm==1.59.8->crewai) (2024.10.1)\n",
            "Requirement already satisfied: referencing>=0.28.4 in /usr/local/lib/python3.11/dist-packages (from jsonschema<5.0.0,>=4.22.0->litellm==1.59.8->crewai) (0.36.2)\n",
            "Requirement already satisfied: rpds-py>=0.7.1 in /usr/local/lib/python3.11/dist-packages (from jsonschema<5.0.0,>=4.22.0->litellm==1.59.8->crewai) (0.22.3)\n",
            "Requirement already satisfied: six>=1.9.0 in /usr/local/lib/python3.11/dist-packages (from kubernetes>=28.1.0->chromadb>=0.5.23->crewai) (1.17.0)\n",
            "Requirement already satisfied: python-dateutil>=2.5.3 in /usr/local/lib/python3.11/dist-packages (from kubernetes>=28.1.0->chromadb>=0.5.23->crewai) (2.8.2)\n",
            "Requirement already satisfied: websocket-client!=0.40.0,!=0.41.*,!=0.42.*,>=0.32.0 in /usr/local/lib/python3.11/dist-packages (from kubernetes>=28.1.0->chromadb>=0.5.23->crewai) (1.8.0)\n",
            "Requirement already satisfied: requests-oauthlib in /usr/local/lib/python3.11/dist-packages (from kubernetes>=28.1.0->chromadb>=0.5.23->crewai) (2.0.0)\n",
            "Requirement already satisfied: oauthlib>=3.2.2 in /usr/local/lib/python3.11/dist-packages (from kubernetes>=28.1.0->chromadb>=0.5.23->crewai) (3.2.2)\n",
            "Requirement already satisfied: durationpy>=0.7 in /usr/local/lib/python3.11/dist-packages (from kubernetes>=28.1.0->chromadb>=0.5.23->crewai) (0.9)\n",
            "Requirement already satisfied: langchain-experimental<0.4.0,>=0.3.0 in /usr/local/lib/python3.11/dist-packages (from langchain-cohere<0.4.0,>=0.3.0->embedchain>=0.1.114->crewai_tools) (0.3.4)\n",
            "Requirement already satisfied: pandas>=1.4.3 in /usr/local/lib/python3.11/dist-packages (from langchain-cohere<0.4.0,>=0.3.0->embedchain>=0.1.114->crewai_tools) (2.2.2)\n",
            "Requirement already satisfied: tabulate<0.10.0,>=0.9.0 in /usr/local/lib/python3.11/dist-packages (from langchain-cohere<0.4.0,>=0.3.0->embedchain>=0.1.114->crewai_tools) (0.9.0)\n",
            "Requirement already satisfied: pytz<2025.0,>=2024.1 in /usr/local/lib/python3.11/dist-packages (from mem0ai<0.2.0,>=0.1.37->embedchain>=0.1.114->crewai_tools) (2024.2)\n",
            "Requirement already satisfied: qdrant-client<2.0.0,>=1.9.1 in /usr/local/lib/python3.11/dist-packages (from mem0ai<0.2.0,>=0.1.37->embedchain>=0.1.114->crewai_tools) (1.13.2)\n",
            "Requirement already satisfied: coloredlogs in /usr/local/lib/python3.11/dist-packages (from onnxruntime>=1.14.1->chromadb>=0.5.23->crewai) (15.0.1)\n",
            "Requirement already satisfied: flatbuffers in /usr/local/lib/python3.11/dist-packages (from onnxruntime>=1.14.1->chromadb>=0.5.23->crewai) (25.1.24)\n",
            "Requirement already satisfied: sympy in /usr/local/lib/python3.11/dist-packages (from onnxruntime>=1.14.1->chromadb>=0.5.23->crewai) (1.13.1)\n",
            "Requirement already satisfied: opentelemetry-instrumentation-asgi==0.51b0 in /usr/local/lib/python3.11/dist-packages (from opentelemetry-instrumentation-fastapi>=0.41b0->chromadb>=0.5.23->crewai) (0.51b0)\n",
            "Requirement already satisfied: opentelemetry-instrumentation==0.51b0 in /usr/local/lib/python3.11/dist-packages (from opentelemetry-instrumentation-fastapi>=0.41b0->chromadb>=0.5.23->crewai) (0.51b0)\n",
            "Requirement already satisfied: opentelemetry-util-http==0.51b0 in /usr/local/lib/python3.11/dist-packages (from opentelemetry-instrumentation-fastapi>=0.41b0->chromadb>=0.5.23->crewai) (0.51b0)\n",
            "Requirement already satisfied: asgiref~=3.0 in /usr/local/lib/python3.11/dist-packages (from opentelemetry-instrumentation-asgi==0.51b0->opentelemetry-instrumentation-fastapi>=0.41b0->chromadb>=0.5.23->crewai) (3.8.1)\n",
            "Requirement already satisfied: monotonic>=1.5 in /usr/local/lib/python3.11/dist-packages (from posthog>=2.4.0->chromadb>=0.5.23->crewai) (1.6)\n",
            "Requirement already satisfied: backoff>=1.10.0 in /usr/local/lib/python3.11/dist-packages (from posthog>=2.4.0->chromadb>=0.5.23->crewai) (2.2.1)\n",
            "Requirement already satisfied: markdown-it-py>=2.2.0 in /usr/local/lib/python3.11/dist-packages (from rich>=10.11.0->chromadb>=0.5.23->crewai) (3.0.0)\n",
            "Requirement already satisfied: huggingface-hub<1.0,>=0.16.4 in /usr/local/lib/python3.11/dist-packages (from tokenizers->litellm==1.59.8->crewai) (0.28.1)\n",
            "Requirement already satisfied: shellingham>=1.3.0 in /usr/local/lib/python3.11/dist-packages (from typer>=0.9.0->chromadb>=0.5.23->crewai) (1.5.4)\n",
            "Requirement already satisfied: mypy-extensions>=0.3.0 in /usr/local/lib/python3.11/dist-packages (from typing-inspect<1,>=0.4.0->dataclasses-json<0.7,>=0.5.7->langchain_community) (1.0.0)\n",
            "Requirement already satisfied: httptools>=0.6.3 in /usr/local/lib/python3.11/dist-packages (from uvicorn[standard]>=0.18.3->chromadb>=0.5.23->crewai) (0.6.4)\n",
            "Requirement already satisfied: uvloop!=0.15.0,!=0.15.1,>=0.14.0 in /usr/local/lib/python3.11/dist-packages (from uvicorn[standard]>=0.18.3->chromadb>=0.5.23->crewai) (0.21.0)\n",
            "Requirement already satisfied: watchfiles>=0.13 in /usr/local/lib/python3.11/dist-packages (from uvicorn[standard]>=0.18.3->chromadb>=0.5.23->crewai) (1.0.4)\n",
            "Requirement already satisfied: websockets>=10.4 in /usr/local/lib/python3.11/dist-packages (from uvicorn[standard]>=0.18.3->chromadb>=0.5.23->crewai) (14.2)\n",
            "Requirement already satisfied: pycparser in /usr/local/lib/python3.11/dist-packages (from cffi>=1.12->cryptography>=43.0.1->auth0-python>=4.7.1->crewai) (2.22)\n",
            "Requirement already satisfied: grpcio-status<2.0.dev0,>=1.33.2 in /usr/local/lib/python3.11/dist-packages (from google-api-core[grpc]!=2.0.*,!=2.1.*,!=2.2.*,!=2.3.*,!=2.4.*,!=2.5.*,!=2.6.*,!=2.7.*,<3.0.0dev,>=1.34.1->google-cloud-aiplatform<2.0.0,>=1.26.1->embedchain>=0.1.114->crewai_tools) (1.62.3)\n",
            "Requirement already satisfied: pyasn1-modules>=0.2.1 in /usr/local/lib/python3.11/dist-packages (from google-auth<3.0.0dev,>=2.14.1->google-cloud-aiplatform<2.0.0,>=1.26.1->embedchain>=0.1.114->crewai_tools) (0.4.1)\n",
            "Requirement already satisfied: rsa<5,>=3.1.4 in /usr/local/lib/python3.11/dist-packages (from google-auth<3.0.0dev,>=2.14.1->google-cloud-aiplatform<2.0.0,>=1.26.1->embedchain>=0.1.114->crewai_tools) (4.9)\n",
            "Requirement already satisfied: google-cloud-core<3.0.0dev,>=1.6.0 in /usr/local/lib/python3.11/dist-packages (from google-cloud-bigquery!=3.20.0,<4.0.0dev,>=1.15.0->google-cloud-aiplatform<2.0.0,>=1.26.1->embedchain>=0.1.114->crewai_tools) (2.4.1)\n",
            "Requirement already satisfied: google-resumable-media<3.0dev,>=0.6.0 in /usr/local/lib/python3.11/dist-packages (from google-cloud-bigquery!=3.20.0,<4.0.0dev,>=1.15.0->google-cloud-aiplatform<2.0.0,>=1.26.1->embedchain>=0.1.114->crewai_tools) (2.7.2)\n",
            "Requirement already satisfied: grpc-google-iam-v1<1.0.0dev,>=0.12.4 in /usr/local/lib/python3.11/dist-packages (from google-cloud-resource-manager<3.0.0dev,>=1.3.3->google-cloud-aiplatform<2.0.0,>=1.26.1->embedchain>=0.1.114->crewai_tools) (0.14.0)\n",
            "Requirement already satisfied: google-crc32c<2.0dev,>=1.0 in /usr/local/lib/python3.11/dist-packages (from google-cloud-storage<3.0.0dev,>=1.32.0->google-cloud-aiplatform<2.0.0,>=1.26.1->embedchain>=0.1.114->crewai_tools) (1.6.0)\n",
            "Requirement already satisfied: filelock in /usr/local/lib/python3.11/dist-packages (from huggingface-hub<1.0,>=0.16.4->tokenizers->litellm==1.59.8->crewai) (3.17.0)\n",
            "Requirement already satisfied: fsspec>=2023.5.0 in /usr/local/lib/python3.11/dist-packages (from huggingface-hub<1.0,>=0.16.4->tokenizers->litellm==1.59.8->crewai) (2024.10.0)\n",
            "Requirement already satisfied: parso<0.9.0,>=0.8.4 in /usr/local/lib/python3.11/dist-packages (from jedi>=0.16->ipython>=5.3.0->pyvis>=0.3.2->crewai) (0.8.4)\n",
            "Requirement already satisfied: mdurl~=0.1 in /usr/local/lib/python3.11/dist-packages (from markdown-it-py>=2.2.0->rich>=10.11.0->chromadb>=0.5.23->crewai) (0.1.2)\n",
            "Requirement already satisfied: tzdata>=2022.7 in /usr/local/lib/python3.11/dist-packages (from pandas>=1.4.3->langchain-cohere<0.4.0,>=0.3.0->embedchain>=0.1.114->crewai_tools) (2025.1)\n",
            "Requirement already satisfied: ptyprocess>=0.5 in /usr/local/lib/python3.11/dist-packages (from pexpect>4.3->ipython>=5.3.0->pyvis>=0.3.2->crewai) (0.7.0)\n",
            "Requirement already satisfied: wcwidth in /usr/local/lib/python3.11/dist-packages (from prompt-toolkit!=3.0.0,!=3.0.1,<3.1.0,>=2.0.0->ipython>=5.3.0->pyvis>=0.3.2->crewai) (0.2.13)\n",
            "Requirement already satisfied: grpcio-tools>=1.41.0 in /usr/local/lib/python3.11/dist-packages (from qdrant-client<2.0.0,>=1.9.1->mem0ai<0.2.0,>=0.1.37->embedchain>=0.1.114->crewai_tools) (1.70.0)\n",
            "Requirement already satisfied: portalocker<3.0.0,>=2.7.0 in /usr/local/lib/python3.11/dist-packages (from qdrant-client<2.0.0,>=1.9.1->mem0ai<0.2.0,>=0.1.37->embedchain>=0.1.114->crewai_tools) (2.10.1)\n",
            "Requirement already satisfied: humanfriendly>=9.1 in /usr/local/lib/python3.11/dist-packages (from coloredlogs->onnxruntime>=1.14.1->chromadb>=0.5.23->crewai) (10.0)\n",
            "Requirement already satisfied: mpmath<1.4,>=1.1.0 in /usr/local/lib/python3.11/dist-packages (from sympy->onnxruntime>=1.14.1->chromadb>=0.5.23->crewai) (1.3.0)\n",
            "Requirement already satisfied: h2<5,>=3 in /usr/local/lib/python3.11/dist-packages (from httpx[http2]>=0.20.0->qdrant-client<2.0.0,>=1.9.1->mem0ai<0.2.0,>=0.1.37->embedchain>=0.1.114->crewai_tools) (4.2.0)\n",
            "Requirement already satisfied: pyasn1<0.7.0,>=0.4.6 in /usr/local/lib/python3.11/dist-packages (from pyasn1-modules>=0.2.1->google-auth<3.0.0dev,>=2.14.1->google-cloud-aiplatform<2.0.0,>=1.26.1->embedchain>=0.1.114->crewai_tools) (0.6.1)\n",
            "Requirement already satisfied: hyperframe<7,>=6.1 in /usr/local/lib/python3.11/dist-packages (from h2<5,>=3->httpx[http2]>=0.20.0->qdrant-client<2.0.0,>=1.9.1->mem0ai<0.2.0,>=0.1.37->embedchain>=0.1.114->crewai_tools) (6.1.0)\n",
            "Requirement already satisfied: hpack<5,>=4.1 in /usr/local/lib/python3.11/dist-packages (from h2<5,>=3->httpx[http2]>=0.20.0->qdrant-client<2.0.0,>=1.9.1->mem0ai<0.2.0,>=0.1.37->embedchain>=0.1.114->crewai_tools) (4.1.0)\n"
          ]
        }
      ],
      "source": [
        "!pip install crewai crewai_tools langchain_community"
      ]
    },
    {
      "cell_type": "code",
      "source": [
        "# Warning control\n",
        "import warnings\n",
        "warnings.filterwarnings('ignore')"
      ],
      "metadata": {
        "id": "pMKuFvpTBZSk"
      },
      "execution_count": null,
      "outputs": []
    },
    {
      "cell_type": "code",
      "source": [
        "from crewai import Agent, Task, Crew, LLM"
      ],
      "metadata": {
        "id": "uroZ05g7BcMo"
      },
      "execution_count": null,
      "outputs": []
    },
    {
      "cell_type": "code",
      "source": [
        "!pip install utils"
      ],
      "metadata": {
        "colab": {
          "base_uri": "https://localhost:8080/"
        },
        "id": "QZLGK6h9CB5s",
        "outputId": "7c5fe26b-5b67-452f-e8ce-0dc23cceb550",
        "collapsed": true
      },
      "execution_count": null,
      "outputs": [
        {
          "output_type": "stream",
          "name": "stdout",
          "text": [
            "Collecting utils\n",
            "  Downloading utils-1.0.2.tar.gz (13 kB)\n",
            "  Preparing metadata (setup.py) ... \u001b[?25l\u001b[?25hdone\n",
            "Building wheels for collected packages: utils\n",
            "  Building wheel for utils (setup.py) ... \u001b[?25l\u001b[?25hdone\n",
            "  Created wheel for utils: filename=utils-1.0.2-py2.py3-none-any.whl size=13906 sha256=f364750d3ac246eadbf0e1a5ca16bf4185247498674621069fa5f1899fc01015\n",
            "  Stored in directory: /root/.cache/pip/wheels/15/0c/b3/674aea8c5d91c642c817d4d630bd58faa316724b136844094d\n",
            "Successfully built utils\n",
            "Installing collected packages: utils\n",
            "Successfully installed utils-1.0.2\n"
          ]
        }
      ]
    },
    {
      "cell_type": "code",
      "source": [
        "import os\n",
        "\n",
        "\n",
        "\n"
      ],
      "metadata": {
        "id": "LsXJytfZBg2i"
      },
      "execution_count": null,
      "outputs": []
    },
    {
      "cell_type": "markdown",
      "source": [
        "Importing the API key - use either OpenAI (GPT4 model) or Gemini (1.5 flash). Dont run both cells:\n",
        "\n",
        "![Screenshot 2025-02-11 234315.jpg](data:image/jpeg;base64,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)"
      ],
      "metadata": {
        "id": "FDQzZH4ECce8"
      }
    },
    {
      "cell_type": "markdown",
      "source": [
        "For Open AI API"
      ],
      "metadata": {
        "id": "0vAWWe1NU6SD"
      }
    },
    {
      "cell_type": "code",
      "source": [
        "from google.colab import userdata\n",
        "my_secret_key = userdata.get('OPENAI_API_KEY')\n",
        "\n",
        "#openai_api_key = my_secret_key\n",
        "os.environ[\"OPENAI_MODEL_NAME\"] = 'gpt-4'\n",
        "os.environ[\"OPENAI_API_KEY\"] = my_secret_key\n",
        "my_llm = LLM(\n",
        "              model='gpt-4',\n",
        "              api_key=os.environ[\"OPENAI_API_KEY\"]\n",
        "            )"
      ],
      "metadata": {
        "id": "iDF8q7CuAcbt"
      },
      "execution_count": null,
      "outputs": []
    },
    {
      "cell_type": "markdown",
      "source": [
        "For Gemini API"
      ],
      "metadata": {
        "id": "l-_rUHnPU-iu"
      }
    },
    {
      "cell_type": "markdown",
      "source": [],
      "metadata": {
        "id": "NEKpDD3HeGmE"
      }
    },
    {
      "cell_type": "code",
      "source": [
        "from google.colab import userdata\n",
        "\n",
        "my_secret_key_gemini = userdata.get('GEMINI_API_KEY')\n",
        "os.environ[\"GOOGLE_API_KEY\"] = my_secret_key_gemini\n",
        "\n",
        "my_llm = LLM(\n",
        "              model='gemini/gemini-1.5-flash',\n",
        "              api_key=os.environ[\"GOOGLE_API_KEY\"]\n",
        "            )\n"
      ],
      "metadata": {
        "id": "BFDnThDbRDPQ"
      },
      "execution_count": null,
      "outputs": []
    },
    {
      "cell_type": "markdown",
      "source": [
        "Creating Agents\n",
        "\n",
        "Define your Agents, and provide them a role, goal and backstory.\n",
        "\n",
        "It has been seen that LLMs perform better when they are role playing."
      ],
      "metadata": {
        "id": "8opNi9t_DAuq"
      }
    },
    {
      "cell_type": "code",
      "source": [
        "planner = Agent(\n",
        "    role=\"Content Planner\",\n",
        "    goal=\"Plan engaging and factually accurate content on {topic}\",\n",
        "    backstory=\"You're working on planning a blog article \"\n",
        "              \"about the topic: {topic}.\"\n",
        "              \"You collect information that helps the \"\n",
        "              \"audience learn something \"\n",
        "              \"and make informed decisions. \"\n",
        "              \"Your work is the basis for \"\n",
        "              \"the Content Writer to write an article on this topic.\",\n",
        "    allow_delegation=False,\n",
        "    llm=my_llm,\n",
        "\tverbose=True\n",
        ")"
      ],
      "metadata": {
        "id": "jrwCtHcvC_3i"
      },
      "execution_count": null,
      "outputs": []
    },
    {
      "cell_type": "code",
      "source": [
        "writer = Agent(\n",
        "    role=\"Content Writer\",\n",
        "    goal=\"Write insightful and factually accurate \"\n",
        "         \"opinion piece about the topic: {topic}\",\n",
        "    backstory=\"You're working on a writing \"\n",
        "              \"a new opinion piece about the topic: {topic}. \"\n",
        "              \"You base your writing on the work of \"\n",
        "              \"the Content Planner, who provides an outline \"\n",
        "              \"and relevant context about the topic. \"\n",
        "              \"You follow the main objectives and \"\n",
        "              \"direction of the outline, \"\n",
        "              \"as provide by the Content Planner. \"\n",
        "              \"You also provide objective and impartial insights \"\n",
        "              \"and back them up with information \"\n",
        "              \"provide by the Content Planner. \"\n",
        "              \"You acknowledge in your opinion piece \"\n",
        "              \"when your statements are opinions \"\n",
        "              \"as opposed to objective statements.\",\n",
        "    allow_delegation=False,\n",
        "    llm=my_llm,\n",
        "    verbose=True\n",
        ")"
      ],
      "metadata": {
        "id": "QSpB1Bh5DfiM"
      },
      "execution_count": null,
      "outputs": []
    },
    {
      "cell_type": "code",
      "source": [
        "editor = Agent(\n",
        "    role=\"Editor\",\n",
        "    goal=\"Edit a given blog post to align with \"\n",
        "         \"the writing style of the organization. \",\n",
        "    backstory=\"You are an editor who receives a blog post \"\n",
        "              \"from the Content Writer. \"\n",
        "              \"Your goal is to review the blog post \"\n",
        "              \"to ensure that it follows journalistic best practices,\"\n",
        "              \"provides balanced viewpoints \"\n",
        "              \"when providing opinions or assertions, \"\n",
        "              \"and also avoids major controversial topics \"\n",
        "              \"or opinions when possible.\",\n",
        "    allow_delegation=False,\n",
        "    llm=my_llm,\n",
        "    verbose=True\n",
        ")"
      ],
      "metadata": {
        "id": "8-i7Azm_Dko8"
      },
      "execution_count": null,
      "outputs": []
    },
    {
      "cell_type": "markdown",
      "source": [
        "Creating Tasks\n"
      ],
      "metadata": {
        "id": "zlizHv33Dn-4"
      }
    },
    {
      "cell_type": "code",
      "source": [
        "plan = Task(\n",
        "    description=(\n",
        "        \"1. Prioritize the latest trends, key players, \"\n",
        "            \"and noteworthy news on {topic}.\\n\"\n",
        "        \"2. Identify the target audience, considering \"\n",
        "            \"their interests and pain points.\\n\"\n",
        "        \"3. Develop a detailed content outline including \"\n",
        "            \"an introduction, key points, and a call to action.\\n\"\n",
        "        \"4. Include SEO keywords and relevant data or sources.\"\n",
        "    ),\n",
        "    expected_output=\"A comprehensive content plan document \"\n",
        "        \"with an outline, audience analysis, \"\n",
        "        \"SEO keywords, and resources.\",\n",
        "    agent=planner,\n",
        ")"
      ],
      "metadata": {
        "id": "pfmO7AfiDqd-"
      },
      "execution_count": null,
      "outputs": []
    },
    {
      "cell_type": "code",
      "source": [
        "write = Task(\n",
        "    description=(\n",
        "        \"1. Use the content plan to craft a compelling \"\n",
        "            \"blog post on {topic}.\\n\"\n",
        "        \"2. Incorporate SEO keywords naturally.\\n\"\n",
        "\t\t\"3. Sections/Subtitles are properly named \"\n",
        "            \"in an engaging manner.\\n\"\n",
        "        \"4. Ensure the post is structured with an \"\n",
        "            \"engaging introduction, insightful body, \"\n",
        "            \"and a summarizing conclusion.\\n\"\n",
        "        \"5. Proofread for grammatical errors and \"\n",
        "            \"alignment with the brand's voice.\\n\"\n",
        "    ),\n",
        "    expected_output=\"A well-written blog post \"\n",
        "        \"in markdown format, ready for publication, \"\n",
        "        \"each section should have 2 or 3 paragraphs.\",\n",
        "    agent=writer,\n",
        ")"
      ],
      "metadata": {
        "id": "bVEqVVJDDvRm"
      },
      "execution_count": null,
      "outputs": []
    },
    {
      "cell_type": "code",
      "source": [
        "edit = Task(\n",
        "    description=(\"Proofread the given blog post for \"\n",
        "                 \"grammatical errors and \"\n",
        "                 \"alignment with the brand's voice.\"),\n",
        "    expected_output=\"A well-written blog post in markdown format, \"\n",
        "                    \"ready for publication, \"\n",
        "                    \"each section should have 2 or 3 paragraphs.\",\n",
        "    agent=editor\n",
        ")"
      ],
      "metadata": {
        "id": "8Hwm4p_WEEp0"
      },
      "execution_count": null,
      "outputs": []
    },
    {
      "cell_type": "code",
      "source": [
        "crew = Crew(\n",
        "    agents=[planner, writer, editor],\n",
        "    tasks=[plan, write, edit],\n",
        "    verbose=True\n",
        ")"
      ],
      "metadata": {
        "id": "LoF1CktVENQy",
        "colab": {
          "base_uri": "https://localhost:8080/"
        },
        "outputId": "d2464d40-f4b1-4dbf-f487-623c82f36ac4"
      },
      "execution_count": null,
      "outputs": [
        {
          "output_type": "stream",
          "name": "stderr",
          "text": [
            "WARNING:opentelemetry.trace:Overriding of current TracerProvider is not allowed\n"
          ]
        }
      ]
    },
    {
      "cell_type": "code",
      "source": [
        "result = crew.kickoff(inputs={\"topic\": \"Artificial Intelligence\"})"
      ],
      "metadata": {
        "colab": {
          "base_uri": "https://localhost:8080/"
        },
        "id": "Tsxn2bMzEI6T",
        "outputId": "5d2b0056-1896-4774-d004-5daaebfb512d"
      },
      "execution_count": null,
      "outputs": [
        {
          "output_type": "stream",
          "name": "stdout",
          "text": [
            "\u001b[1m\u001b[95m# Agent:\u001b[00m \u001b[1m\u001b[92mContent Planner\u001b[00m\n",
            "\u001b[95m## Task:\u001b[00m \u001b[92m1. Prioritize the latest trends, key players, and noteworthy news on Artificial Intelligence.\n",
            "2. Identify the target audience, considering their interests and pain points.\n",
            "3. Develop a detailed content outline including an introduction, key points, and a call to action.\n",
            "4. Include SEO keywords and relevant data or sources.\u001b[00m\n",
            "\n",
            "\n",
            "\u001b[1m\u001b[95m# Agent:\u001b[00m \u001b[1m\u001b[92mContent Planner\u001b[00m\n",
            "\u001b[95m## Final Answer:\u001b[00m \u001b[92m\n",
            "**Content Plan: Understanding and Navigating the World of Artificial Intelligence**\n",
            "\n",
            "**1. Prioritized Trends, Key Players, and News:**\n",
            "\n",
            "* **Trends:** Generative AI (e.g., DALL-E 2, Midjourney, Stable Diffusion, ChatGPT), AI-driven drug discovery,  responsible AI development (focus on bias mitigation and ethical considerations),  the rise of AI in cybersecurity,  AI-powered personalized learning, and the increasing use of AI in the metaverse.\n",
            "* **Key Players:** OpenAI, Google (DeepMind), Microsoft, Amazon (AWS), Meta,  Nvidia,  Anthropic,  and various startups focused on specific AI applications (e.g., healthcare, finance).\n",
            "* **Noteworthy News:** Recent advancements in large language models (LLMs), breakthroughs in AI-powered image generation,  regulatory discussions surrounding AI ethics and safety (e.g., EU AI Act), and major investments in AI research and development by both private and public entities.  Specific news articles can be linked as the content is written.\n",
            "\n",
            "\n",
            "**2. Target Audience Analysis:**\n",
            "\n",
            "* **Primary Audience:** Tech-savvy individuals interested in learning about AI, professionals seeking to understand AI's impact on their industries (e.g., marketing, healthcare, finance),  students exploring career paths in AI or related fields, and individuals concerned about the ethical and societal implications of AI.\n",
            "* **Secondary Audience:**  General public with a basic understanding of technology, policymakers interested in AI regulation, and investors seeking opportunities in the AI market.\n",
            "* **Interests:**  The latest AI advancements, real-world applications of AI, ethical considerations of AI, career opportunities in the AI field, and the potential impact of AI on society.\n",
            "* **Pain Points:**  Lack of understanding of complex AI concepts,  difficulty separating hype from reality, concerns about job displacement due to automation,  fear of AI misuse, and uncertainty about the future implications of AI.\n",
            "\n",
            "\n",
            "**3. Detailed Content Outline:**\n",
            "\n",
            "**I. Introduction (approx. 200 words):**\n",
            "\n",
            "* Hook: Start with a compelling statistic or anecdote illustrating AI's growing impact.\n",
            "* Define AI: Provide a clear and concise definition of artificial intelligence, differentiating between narrow (weak) and general (strong) AI.\n",
            "* Briefly discuss the history of AI, highlighting key milestones and breakthroughs.\n",
            "* Thesis statement: Briefly state the article's purpose – to provide an overview of current AI trends, key players, and ethical considerations.\n",
            "* Briefly mention the target audience and what they will gain from reading the article.\n",
            "\n",
            "**II. Key Trends in AI (approx. 500 words):**\n",
            "\n",
            "* **Generative AI:**  Explain what it is, examples (DALL-E 2, Midjourney, ChatGPT), applications, and potential impacts.\n",
            "* **AI in Healthcare:** Discuss AI's role in drug discovery, diagnostics, personalized medicine, and patient care.\n",
            "* **AI in Cybersecurity:**  Explain how AI is being used to enhance security measures and defend against cyber threats.\n",
            "* **Responsible AI Development:**  Address ethical concerns, including bias in algorithms, data privacy, and job displacement.\n",
            "* **AI and the Metaverse:** Explore how AI is shaping the development and experiences within the metaverse.\n",
            "\n",
            "\n",
            "**III. Key Players in the AI Landscape (approx. 300 words):**\n",
            "\n",
            "* Briefly profile major companies involved in AI research and development (OpenAI, Google, Microsoft, etc.).\n",
            "* Highlight their contributions to the field and their key products or services.\n",
            "* Discuss the competitive landscape and potential collaborations or partnerships.\n",
            "\n",
            "**IV. Ethical Considerations and Future Implications (approx. 400 words):**\n",
            "\n",
            "* Discuss the potential societal impacts of AI, both positive and negative.\n",
            "* Address concerns about job displacement and the need for workforce retraining.\n",
            "* Examine the ethical implications of AI, such as bias, privacy, and accountability.\n",
            "* Explore the need for regulations and guidelines to ensure responsible AI development and deployment.\n",
            "\n",
            "\n",
            "**V. Conclusion (approx. 100 words):**\n",
            "\n",
            "* Summarize the key takeaways from the article.\n",
            "* Reiterate the importance of understanding AI and its implications.\n",
            "* Offer a hopeful outlook on the future of AI, emphasizing the potential for positive change.\n",
            "\n",
            "\n",
            "**VI. Call to Action (approx. 50 words):**\n",
            "\n",
            "* Encourage readers to share their thoughts and comments.\n",
            "* Suggest further reading or resources for those interested in learning more about AI.\n",
            "* Invite readers to subscribe to the blog or follow on social media.\n",
            "\n",
            "\n",
            "**4. SEO Keywords and Relevant Data/Sources:**\n",
            "\n",
            "* **Keywords:** Artificial intelligence, AI, machine learning, deep learning, generative AI, AI ethics, AI regulation, responsible AI, AI in healthcare, AI in cybersecurity, AI trends, future of AI, OpenAI, Google AI, Microsoft AI, etc.\n",
            "* **Data/Sources:**  Reports from Gartner, McKinsey, IDC on AI market trends; research papers from leading AI journals (e.g., JMLR, NeurIPS); news articles from reputable sources (e.g., MIT Technology Review, Wired, The Verge); websites of key AI players; official government publications on AI regulation.\n",
            "\n",
            "\n",
            "This detailed content plan provides a solid foundation for the content writer to create an informative and engaging blog post about Artificial Intelligence.  Remember to cite all sources appropriately.\u001b[00m\n",
            "\n",
            "\n",
            "\u001b[1m\u001b[95m# Agent:\u001b[00m \u001b[1m\u001b[92mContent Writer\u001b[00m\n",
            "\u001b[95m## Task:\u001b[00m \u001b[92m1. Use the content plan to craft a compelling blog post on Artificial Intelligence.\n",
            "2. Incorporate SEO keywords naturally.\n",
            "3. Sections/Subtitles are properly named in an engaging manner.\n",
            "4. Ensure the post is structured with an engaging introduction, insightful body, and a summarizing conclusion.\n",
            "5. Proofread for grammatical errors and alignment with the brand's voice.\n",
            "\u001b[00m\n",
            "\n",
            "\n",
            "\u001b[1m\u001b[95m# Agent:\u001b[00m \u001b[1m\u001b[92mContent Writer\u001b[00m\n",
            "\u001b[95m## Final Answer:\u001b[00m \u001b[92m\n",
            "# Understanding and Navigating the World of Artificial Intelligence\n",
            "\n",
            "**Introduction: A World Transformed by AI**\n",
            "\n",
            "Artificial intelligence (AI) is no longer a futuristic fantasy; it's rapidly reshaping our world.  From self-driving cars to medical diagnoses, AI's impact is undeniable.  In fact, a recent Gartner report predicts that by 2025, AI will be a significant factor in over 90% of new customer interactions.  This post will delve into the key trends, major players, and crucial ethical considerations surrounding this transformative technology, equipping you with a better understanding of AI's present and future.  Whether you're a tech enthusiast, a professional seeking to understand AI's impact on your industry, or simply curious about this rapidly evolving field, this article is for you.  We'll explore both the exciting possibilities and the critical challenges that lie ahead.\n",
            "\n",
            "\n",
            "**Key Trends Shaping the AI Landscape**\n",
            "\n",
            "The AI world is dynamic, with several key trends driving innovation.  Generative AI, exemplified by tools like DALL-E 2, Midjourney, and ChatGPT, is revolutionizing content creation.  These models can generate stunning images, write compelling text, and even compose music, opening up exciting possibilities across various creative industries.  Furthermore, AI is rapidly transforming healthcare, accelerating drug discovery, improving diagnostic accuracy, and personalizing patient care.  It's even proving to be a crucial ally in cybersecurity, enhancing defenses against increasingly sophisticated cyber threats.  However, this rapid advancement necessitates a strong focus on responsible AI development.  We must address potential biases in algorithms, ensure data privacy, and mitigate the risk of job displacement.  Finally, AI is becoming integral to the metaverse, shaping user experiences and creating immersive virtual environments.\n",
            "\n",
            "\n",
            "Beyond generative AI and healthcare, AI's influence extends to various sectors. The application of AI in cybersecurity involves sophisticated threat detection systems and proactive defense mechanisms.  This technological advancement offers enhanced security measures against evolving cyberattacks, making it a critical tool in today's digital landscape.  Simultaneously, the integration of AI in education has the potential to revolutionize personalized learning, adapting to individual student needs and optimizing the learning process. The metaverse, a still-developing realm of immersive virtual environments, is significantly influenced by AI's ability to create realistic interactions and personalized experiences for users.\n",
            "\n",
            "\n",
            "**The Titans of AI: Key Players in the Field**\n",
            "\n",
            "Several tech giants are at the forefront of AI innovation. OpenAI, with its groundbreaking GPT models, is pushing the boundaries of natural language processing.  Google (with DeepMind), Microsoft, and Amazon (AWS) are heavily invested in AI research and development, integrating AI into their diverse product offerings.  Meta is also a significant player, focusing on AI's role in social media and the metaverse.  Nvidia, a leading chip manufacturer, provides the powerful hardware crucial for training advanced AI models.  The competitive landscape is intense, but collaborations and partnerships are also emerging, accelerating the overall progress of the field.  Startups focusing on niche applications further enrich this vibrant ecosystem.  These players are constantly pushing the boundaries of what's possible.  This competition fosters innovation and the rapid improvement of AI technologies.\n",
            "\n",
            "\n",
            "**Ethical Considerations and the Future of AI**\n",
            "\n",
            "The transformative power of AI brings immense benefits, but also raises significant ethical concerns.  The potential for job displacement due to automation is a pressing issue, requiring proactive strategies for workforce retraining and adaptation.  Algorithmic bias, reflecting existing societal inequalities, can perpetuate unfair outcomes.  Concerns surrounding data privacy and the responsible use of AI data are critical to address.  Therefore, establishing clear regulations and ethical guidelines is paramount.  International collaboration and transparent regulatory frameworks are crucial for ensuring that AI is developed and deployed responsibly.\n",
            "\n",
            "\n",
            "The implications of AI extend beyond economic factors. Its impact on societal structures, individual autonomy, and access to resources needs careful consideration.  The ethical implications involve transparency, accountability, and the prevention of misuse.  Bias mitigation strategies are crucial to ensure fairness and prevent discriminatory outcomes.  The need for comprehensive regulations and ethical guidelines is undeniable to ensure responsible development and implementation of AI technologies.\n",
            "\n",
            "\n",
            "**Conclusion: Embracing AI's Potential Responsibly**\n",
            "\n",
            "Artificial intelligence is poised to revolutionize many aspects of our lives.  Understanding its capabilities, limitations, and ethical implications is crucial for harnessing its transformative power for good.  The advancements we've seen—from generative AI to its applications in healthcare and cybersecurity—demonstrate its immense potential.  However, responsible development and deployment, guided by ethical considerations and robust regulations, are essential to mitigate potential risks and ensure that AI benefits all of humanity.  The future of AI is bright, but it demands careful navigation.\n",
            "\n",
            "\n",
            "**Call to Action: Join the Conversation**\n",
            "\n",
            "What are your thoughts on the future of AI? Share your opinions and insights in the comments below.  For further reading, explore resources from leading AI research institutions and organizations focusing on AI ethics.  Let's engage in a thoughtful discussion about shaping a responsible future for AI.\u001b[00m\n",
            "\n",
            "\n",
            "\u001b[1m\u001b[95m# Agent:\u001b[00m \u001b[1m\u001b[92mEditor\u001b[00m\n",
            "\u001b[95m## Task:\u001b[00m \u001b[92mProofread the given blog post for grammatical errors and alignment with the brand's voice.\u001b[00m\n",
            "\n",
            "\n",
            "\u001b[1m\u001b[95m# Agent:\u001b[00m \u001b[1m\u001b[92mEditor\u001b[00m\n",
            "\u001b[95m## Final Answer:\u001b[00m \u001b[92m\n",
            "# Understanding and Navigating the World of Artificial Intelligence\n",
            "\n",
            "**Introduction: A World Transformed by AI**\n",
            "\n",
            "Artificial intelligence (AI) is rapidly transforming our world, moving beyond futuristic fantasy to become a powerful force in numerous sectors.  From self-driving cars to medical diagnoses, its impact is undeniable.  Gartner predicts that by 2025, AI will be a significant factor in over 90% of new customer interactions, highlighting its growing influence. This post explores key trends, major players, and crucial ethical considerations surrounding AI, providing a comprehensive understanding of its present and future implications for various audiences, including tech enthusiasts, professionals, and curious individuals.  We will examine both the exciting opportunities and the critical challenges that lie ahead.\n",
            "\n",
            "\n",
            "The pervasiveness of AI is reshaping industries and daily life in profound ways. Its applications range from automating mundane tasks to assisting in complex decision-making processes.  Understanding this transformative technology is not just beneficial for tech professionals, but crucial for anyone seeking to navigate the evolving landscape of the 21st century. The ethical implications of such a powerful technology warrant careful consideration, ensuring responsible development and deployment for the benefit of society.  We aim to provide a balanced perspective, exploring both the positive potentials and potential pitfalls of artificial intelligence.\n",
            "\n",
            "\n",
            "**Key Trends Shaping the AI Landscape**\n",
            "\n",
            "Several key trends are driving AI innovation. Generative AI, exemplified by tools like DALL-E 2, Midjourney, and ChatGPT, is revolutionizing content creation, producing stunning images, compelling text, and even music.  Simultaneously, AI is transforming healthcare, accelerating drug discovery, improving diagnostic accuracy, and personalizing patient care.  These advancements demonstrate AI's ability to solve complex problems and improve efficiency across various sectors.  However, responsible development remains paramount, necessitating careful attention to potential biases in algorithms, data privacy, and the risk of job displacement. The rapid growth of AI underscores the importance of prioritizing ethical considerations throughout the development and application process.\n",
            "\n",
            "\n",
            "Beyond generative AI and healthcare, AI's applications are expanding rapidly across various fields. In cybersecurity, AI-powered systems enhance threat detection and proactive defense, providing crucial support in combating sophisticated cyberattacks.  The application of AI in education offers opportunities for personalized learning experiences tailored to individual student needs and learning styles.  Furthermore, the development of the metaverse is heavily reliant on AI to create realistic and immersive virtual environments, enhancing user engagement and experience.  These diverse applications highlight AI's versatility and its potential to address real-world challenges.\n",
            "\n",
            "\n",
            "**The Titans of AI: Key Players in the Field**\n",
            "\n",
            "Several tech giants are leading AI innovation.  OpenAI, with its groundbreaking GPT models, is pushing the boundaries of natural language processing.  Google (with DeepMind), Microsoft, Amazon (AWS), and Meta are heavily invested in AI research and development, integrating AI into their products and services. Nvidia, a leading chip manufacturer, provides the powerful hardware essential for training advanced AI models.  This competitive landscape fosters innovation, with collaborations and partnerships also emerging, accelerating the overall progress of the field.  A vibrant ecosystem of startups is further enriching the landscape by focusing on niche applications.\n",
            "\n",
            "\n",
            "The intense competition among these major players drives significant advancements in AI technology.  Continuous innovation and the pursuit of breakthroughs are key characteristics of this dynamic field.  However, this rapid development also presents challenges, such as the need for robust ethical guidelines and regulations to ensure responsible use of these powerful technologies.  The collaborative efforts and individual contributions of a broad range of organizations are crucial in shaping the future of AI.\n",
            "\n",
            "\n",
            "**Ethical Considerations and the Future of AI**\n",
            "\n",
            "The transformative power of AI necessitates careful consideration of ethical implications.  Job displacement due to automation is a pressing concern, requiring proactive strategies for workforce retraining and adaptation.  Algorithmic bias, reflecting existing societal inequalities, can perpetuate unfair outcomes, emphasizing the need for fairness and inclusivity in AI development.  Data privacy and the responsible use of AI data are crucial considerations, necessitating robust regulations and ethical guidelines.\n",
            "\n",
            "\n",
            "Addressing the ethical concerns surrounding AI requires a multi-faceted approach.  International collaboration and transparent regulatory frameworks are essential for ensuring the responsible development and deployment of AI technologies.  This collaborative effort is crucial in establishing standards and guidelines that promote fairness, accountability, and transparency.  Addressing biases in algorithms and ensuring data privacy are key components in promoting responsible and equitable use of AI.\n",
            "\n",
            "\n",
            "**Conclusion: Embracing AI's Potential Responsibly**\n",
            "\n",
            "Artificial intelligence presents both immense opportunities and significant challenges.  Understanding its capabilities, limitations, and ethical implications is crucial for harnessing its transformative power responsibly.  While advancements in generative AI, healthcare, and cybersecurity showcase its potential, ethical considerations and robust regulations are essential to mitigate risks and ensure equitable benefits for all of humanity. The future of AI requires careful navigation and a commitment to responsible development.\n",
            "\n",
            "\n",
            "The potential benefits of AI are vast, but they must be pursued responsibly.  Careful consideration of ethical implications, along with proactive strategies to address potential risks, is crucial to ensure that AI serves as a force for good in the world.  Open dialogue, collaboration, and the establishment of robust ethical frameworks are essential for guiding the development and application of AI in a way that benefits society as a whole.\n",
            "\n",
            "\n",
            "\n",
            "**Call to Action: Join the Conversation**\n",
            "\n",
            "We encourage you to share your thoughts on the future of AI.  What are the key challenges and opportunities you foresee? What steps do you believe are necessary to ensure the responsible development and use of AI? Let’s engage in a constructive dialogue to shape a future where AI benefits all of humanity.\u001b[00m\n",
            "\n",
            "\n"
          ]
        }
      ]
    },
    {
      "cell_type": "code",
      "source": [
        "from IPython.display import Markdown\n",
        "Markdown(result.raw)"
      ],
      "metadata": {
        "colab": {
          "base_uri": "https://localhost:8080/",
          "height": 787
        },
        "id": "IJbNqvbqEaWg",
        "outputId": "30985199-5348-4057-b7d5-ad502e73229a"
      },
      "execution_count": null,
      "outputs": [
        {
          "output_type": "execute_result",
          "data": {
            "text/plain": [
              "<IPython.core.display.Markdown object>"
            ],
            "text/markdown": "# Artificial Intelligence: The Everyday Reality and More\n\nArtificial Intelligence (AI), a term first introduced in the mid-1950s by John McCarthy, is a unique discipline within computer science. It aspires to bestow software with the capacity not only to analyze its environment but also to learn from it, and make decisions independently. Today, AI's influence spans sectors ranging from healthcare to automotive, assisting with complex tasks such as medical diagnoses and autonomous driving.\n\n## The Current Landscape: AI is Here and Now\n\nToday's AI applications are wide-ranging and infiltrating industries in previously unthinkable ways. AI is playing a transformative role in healthcare, where machine learning algorithms aid in predicting patient outcomes and deep learning is utilized in image recognition for disease diagnoses. Industry titans like Google's DeepMind and Microsoft's Azure AI are at the forefront of these advancements. Impressively, OpenAI's GPT-3 model has shown noteworthy competence in natural language processing, underlining both AI's ongoing progression and potential. Examples of its successful implementation, like [insert case study hyperlink], demonstrate how AI can significantly enhance efficiency.\n\n## Unraveling AI: Beyond the Jargon\n\nTo truly comprehend AI, it's vital to understand concepts like Machine Learning, Deep Learning, and Robotics. Machine Learning is the mechanism through which AI gains the ability to learn and improve from experience. Deep Learning, a subfield of machine learning, emulates the human brain in processing data and creating patterns used for decision making. Another AI application, robotics, is making strides in areas ranging from business automation to healthcare and entertainment.\n\n## Peering into Tomorrow: AI's Future\n\nAs AI merges with big data and the Internet of Things, we are starting to witness ideas once thought fictional becoming reality. Nonetheless, this introduces new ethical questions around data privacy and accountability. In terms of employment, studies from [McKinsey](URL) and [PwC](URL) suggest AI's contribution to job creation could match job displacement, highlighting a potential necessity for workforce retraining.\n\n## Embarking on Your AI Journey: Charting the Course\n\nFor those interested in AI, there are plenty of resources available - spanning online courses on platforms like Coursera, insightful podcasts, and enlightening books. The AI field boasts a rich variety of career paths, encompassing roles from data scientists to AI specialists. Essential future skills are likely to involve problem-solving, statistical reasoning, and programming.\n\n## The Final Word: Navigating the AI Shift\n\nThe magnitude of AI's influence on daily life is significant and predicted to expand. Today's AI innovations often turn yesterday's fiction into today's fact. With this in mind, this could be an opportune time to engage with AI, whether to optimize your business operations or satisfy keen interest. \n\nNow that AI has permeated everyday lexicon, the real question is, will you be an observer of its progression or leverage its potential to drive innovation? Are you ready to grasp the AI-driven future we're crafting today? Your journey begins now."
          },
          "metadata": {},
          "execution_count": 47
        }
      ]
    },
    {
      "cell_type": "code",
      "source": [
        "topic = \"Hardware advancements for AI\"\n",
        "result = crew.kickoff(inputs={\"topic\": topic})"
      ],
      "metadata": {
        "colab": {
          "base_uri": "https://localhost:8080/"
        },
        "id": "O_Rm2PDXEgXg",
        "outputId": "6b32b242-091d-41d3-8a7d-b826d22c3154"
      },
      "execution_count": null,
      "outputs": [
        {
          "output_type": "stream",
          "name": "stdout",
          "text": [
            "\u001b[1m\u001b[95m# Agent:\u001b[00m \u001b[1m\u001b[92mContent Planner\u001b[00m\n",
            "\u001b[95m## Task:\u001b[00m \u001b[92m1. Prioritize the latest trends, key players, and noteworthy news on Hardware advancements for AI.\n",
            "2. Identify the target audience, considering their interests and pain points.\n",
            "3. Develop a detailed content outline including an introduction, key points, and a call to action.\n",
            "4. Include SEO keywords and relevant data or sources.\u001b[00m\n",
            "\n",
            "\n",
            "\u001b[1m\u001b[95m# Agent:\u001b[00m \u001b[1m\u001b[92mContent Planner\u001b[00m\n",
            "\u001b[95m## Final Answer:\u001b[00m \u001b[92m\n",
            "1. **Content Topic:** Hardware Advancements for Artificial Intelligence\n",
            "\n",
            "2. **Target Audience:** The target audience consists of tech enthusiasts, AI developers, students studying computer science, engineers, and people interested in the future advancements of technology, specifically in hardware for AI. \n",
            "\n",
            "3. **Audience Interests and Pain Points:** The audience shows interest in staying updated on the latest trends on AI and its hardware, in understanding how these advancements will enhance the functioning of AI systems. The technical details would be interesting to them. A pain point could be not understanding complex terminologies and technical language.\n",
            "\n",
            "4. **SEO Keywords:** Artificial Intelligence, AI Hardware, AI Processors, Hardware Advancements in AI, AI Chips, Quantum Computing, Neuromorphic Computing, Edge Computing.\n",
            "\n",
            "5. **Content Outline:**\n",
            "\n",
            "   - **Introduction**\n",
            "     - Brief on AI and its growing significance \n",
            "     - The crucial role of hardware in amplifying AI capabilities\n",
            "\n",
            "   - **Noteworthy Facts about Hardware Advancements in AI**\n",
            "     - Recent developments in the AI Hardware industry\n",
            "     - Explanation of different types of AI hardware-Cloud, Edge, and Hybrid\n",
            " \n",
            "  - **Key Players & Their Innovations**\n",
            "     - Overview of Key Players: Google, Intel, NVIDIA, IBM, AMD, etc.\n",
            "     - Discuss their cutting-edge hardware innovations\n",
            "\n",
            "  - **Impact of Hardware Advancements on AI-Performance**\n",
            "     - Diving deeper into how these advancements are influencing \n",
            "       the performance of AI\n",
            "\n",
            "  - **Future Trends**\n",
            "     - Predicted future trends: Increase in Quantum Computing and Neuromorphic Chips\n",
            "\n",
            "  - **Significance of Being Up to Date**\n",
            "     - Highlighting the importance of staying informed about these advancements\n",
            "\n",
            "  - **Call to Action**\n",
            "     - Encourage readers to delve in further, subscribe for more updates, share the blog with like-minded tech enthusiasts\n",
            "   \n",
            "6. **Resources**\n",
            "   - AI trends (https://www.forbes.com/sites/forbestechcouncil/2020/07/20/15-noteworthy-facts-about-artificial-intelligence-in-society/#230399395901)\n",
            "   - Latest Hardware for AI (https://www.gartner.com/smarterwithgartner/what-edge-computing-means-for-infrastructure-and-operations-leaders/)\n",
            "   - Significant Players (https://www.bbntimes.com/technology/top-10-ai-chip-companies-a-look-into.ai-hardware-companies)\n",
            "   - Future trends in AI Hardware (https://www.analyticsinsight.net/top-5-trends-in-artificial-intelligence-that-may-dominate-2020s/)\n",
            "   \n",
            "Remember, the goal of this blog is to educate the readers about the latest trends and advancements in AI hardware in an engaging and accessible manner. Ensure the content remains beneficial, informative, and understandable to the target audience.\u001b[00m\n",
            "\n",
            "\n",
            "\u001b[1m\u001b[95m# Agent:\u001b[00m \u001b[1m\u001b[92mContent Writer\u001b[00m\n",
            "\u001b[95m## Task:\u001b[00m \u001b[92m1. Use the content plan to craft a compelling blog post on Hardware advancements for AI.\n",
            "2. Incorporate SEO keywords naturally.\n",
            "3. Sections/Subtitles are properly named in an engaging manner.\n",
            "4. Ensure the post is structured with an engaging introduction, insightful body, and a summarizing conclusion.\n",
            "5. Proofread for grammatical errors and alignment with the brand's voice.\n",
            "\u001b[00m\n",
            "\n",
            "\n",
            "\u001b[1m\u001b[95m# Agent:\u001b[00m \u001b[1m\u001b[92mContent Writer\u001b[00m\n",
            "\u001b[95m## Final Answer:\u001b[00m \u001b[92m\n",
            "# Hardware Advancements: A Game-Changer for Artificial Intelligence \n",
            "\n",
            "Artificial intelligence (AI) has skyrocketed in significance in our digital society. From simple chatbots to self-driving cars, AI systems have weaved their way into our everyday life. One vital aspect behind the success of AI is the revolutionary advancements in AI hardware. \n",
            "\n",
            "## Noteworthy Facts about Hardware Advancements in AI \n",
            "\n",
            "Hardware has been a driving force, allowing AI systems to work more efficiently and speedily. The recent developments in the AI hardware industry are a fascinating blend of edge, cloud, and hybrid hardware. Edge computing processes data on local devices or sensors, reducing latency. Conversely, cloud computing processes data on remote servers, offering powerful computation. Hybrid AI hardware offers the best of both worlds. \n",
            "\n",
            "## Key Players & their Cutting-Edge Innovations \n",
            "\n",
            "Prominent players like Google, Intel, NVIDIA, IBM, and AMD are leading these advancements. Google's TPU (Tensor Processing Unit), Intel's Nervana Neural Network Processor, Nvidia’s Tesla V100, and IBM’s Power9 chip underscore the innovation in this field.\n",
            "\n",
            "## Impact of Hardware Advancements on AI-Performance \n",
            "\n",
            "Advancements in 'AI-specific' chips and processors have significantly enhanced the performance of AI systems. Faster data processing, lower power consumption, and enhanced machine learning capabilities are tangible benefits brought by these advancements. \n",
            "\n",
            "## Future Trends \n",
            "\n",
            "Looking ahead, the future appears fascinating. Be ready for an increase in Quantum computing – offering huge computational power and Neuromorphic chips – processors resembling the human brain. Keeping up to date with these trends is not just exciting but also crucial to understanding the evolving landscape of AI.\n",
            "\n",
            "## Staying Informed: A Necessity \n",
            "\n",
            "The rapid innovation and advancements in AI hardware highlight the significance of staying informed. With the landscape of AI shifting at its current pace, it's crucial for tech enthusiasts, AI developers, and engineers to keep up with these evolutions.\n",
            "\n",
            "If you’re keen to stay updated on the latest in AI Hardware, consider subscribing to our updates and don’t forget to share this blog with other tech enthusiasts. \n",
            "\n",
            "Stay informed, stay ahead!\n",
            "\n",
            "By breaking complex terminologies down into simpler language, we ensure engagement and understanding by our readers. Through this blog, we hope to have educated you about the latest trends, advancements in AI hardware, and its importance in our digital society.\u001b[00m\n",
            "\n",
            "\n",
            "\u001b[1m\u001b[95m# Agent:\u001b[00m \u001b[1m\u001b[92mEditor\u001b[00m\n",
            "\u001b[95m## Task:\u001b[00m \u001b[92mProofread the given blog post for grammatical errors and alignment with the brand's voice.\u001b[00m\n",
            "\n",
            "\n",
            "\u001b[1m\u001b[95m# Agent:\u001b[00m \u001b[1m\u001b[92mEditor\u001b[00m\n",
            "\u001b[95m## Final Answer:\u001b[00m \u001b[92m\n",
            "# Hardware Advancements: A Significant Step for Artificial Intelligence \n",
            "\n",
            "Artificial intelligence (AI) has indeed seeped into our digital sphere, paving the way for significant progress and development. From easy-to-use chatbots to advanced self-driving cars, we encounter and interact with AI systems in our daily lives. Notably, the evolution of AI Hardware plays an indispensable role in the expanding reach and effectiveness of AI systems.\n",
            "\n",
            "## Unveiling the Role of Hardware in AI Progress \n",
            "\n",
            "A critical propelling force in the evolution of AI systems is hardware. The hardware's ability to handle advanced computations and processes efficiently makes the rapid strides in AI possible. The fascinating amalgamation of edge, cloud, and hybrid hardware underlines the recent advancements in the AI Hardware landscape. Edge computing systems process data on local devices or sensors, resulting in reduced latency. On the other hand, cloud computing works on remote servers, providing powerful processing capabilities. Meanwhile, Hybrid AI hardware merges the advantages of both. \n",
            "\n",
            "## Unveiling the Innovators\n",
            "\n",
            "Prominent industrial players such as Google, Intel, NVIDIA, IBM, and AMD spearhead these hardware advancements. Innovations like Google's TPU (Tensor Processing Unit), Intel's Nervana Neural Network Processor, Nvidia’s Tesla V100, and IBM’s Power9 chip epitomize the level of advancement in this field.\n",
            "\n",
            "## AI-Performance Enhancement Through Hardware Advancements \n",
            "\n",
            "'AI-specific' chips and processors, bolstered by cutting-edge technology, have incontrovertibly augmented the performance of AI Systems. Benefits derived from these advancements include faster data processing, lower power consumption, and improved machine learning potentials. \n",
            "\n",
            "## Anticipating the Future\n",
            "\n",
            "As we peek into the future, we indeed foresee an exciting journey. Brace yourself for the influx of Quantum computing, offering massive computational capabilities and Neuromorphic chips, designed to parallel the human brain. Remaining abreast of these trends not only kindles curiosity but is also pivotal to understanding the fluid context of AI.\n",
            "\n",
            "## The Imperative of Staying Informed \n",
            "\n",
            "Keeping pace with the swift innovation and advancements in AI hardware is becoming increasingly essential. Given the rapid shifts in the AI landscape, tech enthusiasts, AI developers, and engineers must adapt and stay updated on this front.\n",
            "\n",
            "If AI Hardware advancements pique your interest, subscribing to our updates would be a promising start. Don’t forget to urge other tech aficionados to share this insight-filled blog. \n",
            "\n",
            "Stay informed, to stay one step ahead!\n",
            "\n",
            "Demystifying complex terminologies into simpler language, we aim to enhance reader engagement and comprehension. It is hoped that through this blog, you have gained a better understanding of the latest trends and significance of AI hardware in our increasingly digital society.\u001b[00m\n",
            "\n",
            "\n"
          ]
        }
      ]
    },
    {
      "cell_type": "code",
      "source": [
        "Markdown(result)"
      ],
      "metadata": {
        "colab": {
          "base_uri": "https://localhost:8080/",
          "height": 989
        },
        "id": "v1s6YTwKEstI",
        "outputId": "4608fb65-54a1-4394-e719-5296699b5ac0"
      },
      "execution_count": null,
      "outputs": [
        {
          "output_type": "execute_result",
          "data": {
            "text/plain": [
              "<IPython.core.display.Markdown object>"
            ],
            "text/markdown": "# Unleashing the Power of Hardware Advancements in AI: A Comprehensive Guide\n\n## Introduction\nThe field of Artificial Intelligence (AI) has been experiencing rapid growth, with hardware advancements playing a crucial role in enhancing AI capabilities. As AI applications become more complex and demanding, the need for innovative hardware solutions has become increasingly evident. Key players in the hardware industry are driving this innovation, pushing the boundaries of what is possible with AI technology.\n\n## Latest Trends in Hardware Advancements for AI\nOne of the most exciting trends in hardware advancements for AI is the development of cutting-edge technologies such as neuromorphic computing, quantum computing, and specialized AI chips. These advancements are revolutionizing AI applications across various industries, enabling faster processing speeds, lower power consumption, and improved performance. Neuromorphic computing, inspired by the human brain's neural networks, offers a new approach to AI that mimics biological processes for more efficient and adaptive learning. Quantum computing, with its ability to perform complex calculations at an exponential speed, has the potential to revolutionize AI algorithms and problem-solving capabilities. Specialized AI chips, designed specifically for AI workloads, are optimizing performance and efficiency in AI applications, leading to significant advancements in machine learning and deep learning models.\n\n## Key Players in the Hardware Industry\nLeading companies like NVIDIA, Intel, AMD, and Google are at the forefront of developing hardware solutions for AI. These companies are constantly innovating and pushing the boundaries of hardware technology to meet the growing demands of AI applications. NVIDIA, known for its powerful graphics processing units (GPUs), has become a key player in the AI hardware market, offering high-performance solutions for deep learning and AI research. Intel, a longstanding leader in the semiconductor industry, has been investing heavily in AI hardware advancements, with a focus on developing efficient and scalable solutions for AI workloads. AMD, known for its central processing units (CPUs) and graphics cards, has also made significant contributions to advancing AI technology through hardware innovation. Google, with its AI-powered products and services, has developed a diverse portfolio of AI hardware offerings to support its AI research and development initiatives.\n\n## Noteworthy News in Hardware Advancements for AI\nRecent breakthroughs in hardware design have led to increased efficiency, scalability, and speed for AI workloads. These advancements are driving significant improvements in AI performance and capabilities, enabling more sophisticated AI applications across various industries. However, challenges such as data privacy, ethical considerations, and sustainability issues remain important considerations in the development of AI hardware solutions. As the field of AI continues to evolve, future directions in hardware development will focus on addressing these challenges while exploring new possibilities for AI technology.\n\n### Conclusion\nIn conclusion, hardware advancements play a vital role in unleashing the full potential of AI technology. By staying informed about the latest trends and developments in AI hardware, professionals in the tech industry can leverage these advancements to drive innovation and growth in their organizations. As AI continues to transform industries and reshape the way we work and live, the integration of cutting-edge hardware solutions will be essential for unlocking new possibilities in AI applications. I encourage readers to explore the latest hardware advancements in AI technology and consider how they can integrate these solutions into their own projects or businesses for enhanced AI performance.\n\nSources:\n- [NVIDIA's AI Hardware Solutions](Link to NVIDIA's AI hardware products)\n- [Intel's Innovation in AI Hardware](Link to Intel's AI hardware advancements)\n- [AMD's Role in Advancing AI Technology](Link to AMD's AI hardware solutions)\n- [Google's AI Hardware Portfolio](Link to Google's AI hardware offerings)"
          },
          "metadata": {},
          "execution_count": 23
        }
      ]
    }
  ]
}